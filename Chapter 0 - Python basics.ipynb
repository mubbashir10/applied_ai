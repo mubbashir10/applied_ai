{
 "cells": [
  {
   "cell_type": "markdown",
   "metadata": {
    "id": "eayH5B-jueb6"
   },
   "source": [
    "\n",
    "# Chapter 1: Python Syntax and Basics\n",
    "\n",
    "In this chapter, we'll quickly cover Python's syntax and foundational concepts. Since you are already experienced developers, this will serve as a concise refresher to familiarize you with Python's unique features.\n",
    "\n",
    "## Code Structure\n",
    "Python uses indentation to define blocks of code, unlike languages like JavaScript which use braces. Consistent indentation is crucial as it directly impacts the program's flow. Here's a quick example:"
   ]
  },
  {
   "cell_type": "code",
   "execution_count": null,
   "metadata": {
    "id": "3GRezWm0u-PZ"
   },
   "outputs": [],
   "source": [
    "def greet(name):\n",
    "    if name:\n",
    "        print(f\"Hello, {name}!\")\n",
    "    else:\n",
    "        print(\"Hello, world!\")\n"
   ]
  },
  {
   "cell_type": "markdown",
   "metadata": {
    "id": "VZ7dTvJNvExL"
   },
   "source": [
    "## Variables and Data Types\n",
    "\n",
    "Python is dynamically typed, meaning you don't need to declare the type of a variable when you create one. The basic data types in Python include:\n",
    "\n",
    "* **Strings**: Defined with single ('...') or double (\"...\") quotes.\n",
    "* **Integers**: No special syntax required, e.g., 5.\n",
    "* **Floats**: Use a point to denote decimal, e.g., 5.0.\n",
    "* **Booleans**: Written as True or False.\n",
    "\n",
    "Example"
   ]
  },
  {
   "cell_type": "code",
   "execution_count": null,
   "metadata": {
    "id": "b4UQAEMqvb8E"
   },
   "outputs": [],
   "source": [
    "name = \"Alice\"\n",
    "age = 30\n",
    "is_registered = True #capitalized boolean in python\n"
   ]
  },
  {
   "cell_type": "markdown",
   "metadata": {
    "id": "CY7wDgzUvchb"
   },
   "source": [
    "## Collections\n",
    "\n",
    "- **Lists**: Ordered and mutable collection, e.g., numbers = [1, 2, 3].\n",
    "- **Dictionaries**: Key-value pairs, e.g., person = {\"name\": \"Alice\", \"age\": 30}.\n",
    "- **Sets**: Unordered collection of unique elements, e.g., unique_numbers = {1, 2, 3}.\n",
    "- **Tuples**: Ordered and immutable collection, e.g., point = (1, 2)."
   ]
  },
  {
   "cell_type": "markdown",
   "metadata": {
    "id": "mxEtIc-maoya"
   },
   "source": [
    "## List Comprehensions\n",
    "List comprehensions provide a concise way to create lists:\n"
   ]
  },
  {
   "cell_type": "code",
   "execution_count": 2,
   "metadata": {
    "id": "Fp6ggY9cas7C"
   },
   "outputs": [
    {
     "name": "stdout",
     "output_type": "stream",
     "text": [
      "[0, 1, 4, 9, 16, 25, 36, 49, 64, 81]\n"
     ]
    }
   ],
   "source": [
    "squares = [x**2 for x in range(10)]\n",
    "print(squares)"
   ]
  },
  {
   "cell_type": "markdown",
   "metadata": {
    "id": "_dsQqoS_aOfX"
   },
   "source": [
    "## Functions\n",
    "\n",
    "Defining functions in Python uses the def keyword. You can specify default values for parameters, which makes them optional during calls:"
   ]
  },
  {
   "cell_type": "code",
   "execution_count": null,
   "metadata": {
    "id": "Wqme0uCoaRIX"
   },
   "outputs": [],
   "source": [
    "def greet(name, greeting=\"Hello\"):\n",
    "    print(f\"{greeting}, {name}!\")\n",
    "\n",
    "greet(\"Alice\")  # Uses the default greeting\n",
    "greet(\"Bob\", \"Howdy\")  # Uses a custom greeting\n"
   ]
  },
  {
   "cell_type": "markdown",
   "metadata": {
    "id": "aeStLLr_etBF"
   },
   "source": [
    "This chapter sets the foundation for understanding how Python code is structured and executed. Up next, we will explore control structures to manage the flow of your Python programs.\n",
    "\n",
    "\n",
    "\n",
    "\n",
    "\n"
   ]
  },
  {
   "cell_type": "markdown",
   "metadata": {
    "id": "blLHC4Iwbwzb"
   },
   "source": [
    "# Chapter 2: Control Structures\n",
    "\n",
    "Python's control structures allow you to direct the flow of your program's execution through conditional statements and loops. This section will refresh your understanding of these constructs.\n",
    "\n",
    "## If, Elif, and Else\n",
    "Conditional statements in Python are straightforward. The if statement evaluates a condition and executes a block of code if the condition is true. You can extend this logic with elif (else if) and else:"
   ]
  },
  {
   "cell_type": "code",
   "execution_count": null,
   "metadata": {
    "id": "M4Pcx5FFb5ar"
   },
   "outputs": [],
   "source": [
    "age = 25\n",
    "if age < 18:\n",
    "    print(\"You are a minor.\")\n",
    "elif age < 65:\n",
    "    print(\"You are an adult.\")\n",
    "else:\n",
    "    print(\"You are a senior.\")\n"
   ]
  },
  {
   "cell_type": "markdown",
   "metadata": {
    "id": "o_E6fOPgdjYJ"
   },
   "source": [
    "Python evaluates conditions until one is true, then skips the rest, known as short-circuiting.\n",
    "\n"
   ]
  },
  {
   "cell_type": "markdown",
   "metadata": {
    "id": "15_QIh9_dlqy"
   },
   "source": [
    "## Loops\n",
    "\n",
    "Python provides for and while loops for iterating over sequences or executing a block of code repeatedly under a condition.\n",
    "\n",
    "**For Loops:** Used for iterating over a sequence (like a list, tuple, or string)."
   ]
  },
  {
   "cell_type": "code",
   "execution_count": null,
   "metadata": {
    "id": "UR6XlFQ0dnLO"
   },
   "outputs": [],
   "source": [
    "for number in range(5):  # range(5) generates numbers from 0 to 4\n",
    "    print(number)"
   ]
  },
  {
   "cell_type": "markdown",
   "metadata": {
    "id": "KnIzPXtWd2QB"
   },
   "source": [
    "**While Loops:** Execute as long as a condition is true."
   ]
  },
  {
   "cell_type": "code",
   "execution_count": null,
   "metadata": {
    "id": "OeF3PC9weEFF"
   },
   "outputs": [],
   "source": [
    "count = 0\n",
    "while count < 5:\n",
    "    print(count)\n",
    "    count += 1"
   ]
  },
  {
   "cell_type": "markdown",
   "metadata": {
    "id": "9CsuY9UReG1h"
   },
   "source": [
    "Control within loops can be managed with break (to exit the loop) and continue (to skip the current iteration and continue with the next one):\n",
    "\n"
   ]
  },
  {
   "cell_type": "code",
   "execution_count": null,
   "metadata": {
    "id": "-R4VeYudeLCo"
   },
   "outputs": [],
   "source": [
    "for number in range(10):\n",
    "    if number == 3:\n",
    "        continue  # Skip the print statement for number 3\n",
    "    if number == 8:\n",
    "        break  # Exit the loop when number is 8\n",
    "    print(number)"
   ]
  },
  {
   "cell_type": "markdown",
   "metadata": {
    "id": "Gb8x5z47eRtx"
   },
   "source": [
    "## Iterators and Generators\n",
    "\n",
    "Python uses iterators for looping. You can create your own iterator by implementing __iter__() and __next__() methods or using generator functions.\n",
    "\n",
    "- Generators: Use yield to generate a sequence of values. Generators are useful when you want to iterate over a sequence without storing the entire sequence in memory.\n"
   ]
  },
  {
   "cell_type": "code",
   "execution_count": null,
   "metadata": {
    "id": "IoP5_HTieZTt"
   },
   "outputs": [],
   "source": [
    "def countdown(num):\n",
    "    while num > 0:\n",
    "        yield num\n",
    "        num -= 1\n",
    "\n",
    "for i in countdown(5):\n",
    "    print(i)\n"
   ]
  },
  {
   "cell_type": "markdown",
   "metadata": {
    "id": "DPU8R7Bqepnz"
   },
   "source": [
    "This chapter covers the basic control structures in Python. You'll find these essential for creating conditional logic and managing looping in your Python programs. Next, we'll dive into more Pythonic techniques and features to help you write cleaner and more efficient code."
   ]
  },
  {
   "cell_type": "markdown",
   "metadata": {
    "id": "8TMNADCLes6w"
   },
   "source": [
    "## Chapter 3: Pythonic Techniques\n",
    "This chapter delves into more sophisticated Pythonic techniques, enabling you to write cleaner, more efficient, and more Python-specific code. These techniques leverage Python's unique capabilities and idiomatic practices.\n",
    "\n",
    "## Unpacking\n",
    "Unpacking allows you to assign values from a list or tuple to variables in a single statement, improving readability and conciseness."
   ]
  },
  {
   "cell_type": "code",
   "execution_count": null,
   "metadata": {
    "id": "6Vk2MZiGfvzZ"
   },
   "outputs": [],
   "source": [
    "a, b, c = [1, 2, 3]\n",
    "print(a, b, c)  # Outputs: 1 2 3\n",
    "\n",
    "# Star expressions for capturing excess items\n",
    "first, *middle, last = [1, 2, 3, 4, 5]\n",
    "print(first, middle, last)  # Outputs: 1 [2, 3, 4] 5\n"
   ]
  },
  {
   "cell_type": "markdown",
   "metadata": {
    "id": "-B5rgDYCgDcW"
   },
   "source": [
    "## Lambda Functions\n",
    "\n",
    "Lambda functions are small anonymous functions defined with the lambda keyword. They are best used for short, simple functions.\n"
   ]
  },
  {
   "cell_type": "code",
   "execution_count": null,
   "metadata": {
    "id": "O1uLHRCggKJU"
   },
   "outputs": [],
   "source": [
    "# A simple lambda to add two numbers\n",
    "add = lambda x, y: x + y\n",
    "print(add(5, 3))  # Outputs: 8\n",
    "\n",
    "# Often used in functions like map() and filter()\n",
    "squares = list(map(lambda x: x**2, range(10)))\n",
    "print(squares)  # Outputs: [0, 1, 4, 9, 16, 25, 36, 49, 64, 81]\n"
   ]
  },
  {
   "cell_type": "markdown",
   "metadata": {
    "id": "iRaD_MSegaV9"
   },
   "source": [
    "## Map and Filter\n",
    "The map and filter functions are functional programming tools that apply a function to each item in an iterable (like a list) and return an iterable.\n",
    "\n",
    "map(): Applies a function to each item in an iterable.\n",
    "filter(): Extracts elements from an iterable for which a function returns True."
   ]
  },
  {
   "cell_type": "code",
   "execution_count": null,
   "metadata": {
    "id": "xHhnataRgZtJ"
   },
   "outputs": [],
   "source": [
    "# Using map to square numbers\n",
    "nums = [1, 2, 3, 4, 5]\n",
    "squared = list(map(lambda x: x**2, nums))\n",
    "\n",
    "# Using filter to find even numbers\n",
    "evens = list(filter(lambda x: x % 2 == 0, nums))\n"
   ]
  },
  {
   "cell_type": "markdown",
   "metadata": {
    "id": "knc3hXtegrYp"
   },
   "source": [
    "When compared to list comprehensions, map() and filter() can be preferable for their readability and expressive power with small lambda functions. However, list comprehensions are often clearer and more Pythonic when the operation is straightforward.\n",
    "\n",
    "This chapter introduces you to writing Python in a way that is not just correct but also stylistically Pythonic, embracing the language's philosophy of readability and simplicity. By using these advanced features, you can make your code more modular, reusable, and expressive. Up next, we'll cover file handling and exception management to ensure your programs are robust and professional."
   ]
  },
  {
   "cell_type": "markdown",
   "metadata": {
    "id": "uwWctxLuhamu"
   },
   "source": [
    "# Chapter 4: File Handling and Exception Management\n",
    "\n",
    "In Python, managing files and handling exceptions are critical for creating robust applications. This chapter covers the essentials of these areas, focusing on best practices and Pythonic approaches.\n",
    "\n",
    "## File Handling\n",
    "Python simplifies file operations with built-in functions and methods. The with statement ensures that files are properly closed after their suite finishes, even if an exception is raised.\n",
    "\n"
   ]
  },
  {
   "cell_type": "code",
   "execution_count": null,
   "metadata": {
    "id": "pfUUjcF6hftM"
   },
   "outputs": [],
   "source": [
    "# Reading from a file\n",
    "with open('example.txt', 'r') as file:\n",
    "    content = file.read()\n",
    "    print(content)\n",
    "\n",
    "# Writing to a file\n",
    "with open('output.txt', 'w') as file:\n",
    "    file.write(\"Hello, Python!\\n\")\n"
   ]
  },
  {
   "cell_type": "markdown",
   "metadata": {
    "id": "sSdl2Gbohozn"
   },
   "source": [
    "For reading and writing files, Python offers methods like read(), readline(), readlines(), write(), and writelines(), allowing you to handle different file sizes and content types efficiently.\n",
    "\n",
    "## Exception Handling\n",
    "\n",
    "Proper error and exception handling is essential for writing reliable and user-friendly programs. Python uses try, except, else, and finally blocks to handle exceptions.\n",
    "\n"
   ]
  },
  {
   "cell_type": "code",
   "execution_count": null,
   "metadata": {
    "id": "qWUPT8yikaKB"
   },
   "outputs": [],
   "source": [
    "try:\n",
    "    # Try to do something that might raise an exception\n",
    "    result = 10 / 0\n",
    "except ZeroDivisionError:\n",
    "    # Handle specific exceptions\n",
    "    print(\"Divided by zero!\")\n",
    "else:\n",
    "    # Execute if no exceptions\n",
    "    print(\"Division successful!\", result)\n",
    "finally:\n",
    "    # Always executed\n",
    "    print(\"Cleaning up, if needed.\")\n"
   ]
  },
  {
   "cell_type": "markdown",
   "metadata": {
    "id": "UzHmliqzka7o"
   },
   "source": [
    "Use specific exception types in except blocks to catch and handle different error conditions appropriately. This not only helps in debugging but also allows the program to continue or fail gracefully.\n",
    "\n",
    "## Context Managers\n",
    "For more complex resource management, Python provides context managers that allow you to allocate and release resources precisely when you want. The with statement is commonly used with file handling, as shown above, but can also be used with other resources like network connections or locking mechanisms."
   ]
  },
  {
   "cell_type": "code",
   "execution_count": null,
   "metadata": {
    "id": "Z98K693skiku"
   },
   "outputs": [],
   "source": [
    "from contextlib import contextmanager\n",
    "\n",
    "@contextmanager\n",
    "def managed_file(name):\n",
    "    try:\n",
    "        f = open(name, 'w')\n",
    "        yield f\n",
    "    finally:\n",
    "        f.close()\n",
    "\n",
    "# Usage\n",
    "with managed_file('hello.txt') as f:\n",
    "    f.write('hello, world!')\n"
   ]
  },
  {
   "cell_type": "markdown",
   "metadata": {
    "id": "H3NRLQ0qko0k"
   },
   "source": [
    "This chapter ensures that you are equipped to handle file I/O operations and exceptions in your Python applications effectively, contributing to their reliability and maintainability. Next, we will explore modules, packages, and Python's environment management tools.\n",
    "\n",
    "\n",
    "\n",
    "\n",
    "\n",
    "\n"
   ]
  },
  {
   "cell_type": "markdown",
   "metadata": {
    "id": "Z9yfnFu-ko5A"
   },
   "source": [
    "# Chapter 5: Modules and Packages\n",
    "This chapter focuses on the organization and reusability of code in Python through modules and packages. Understanding how to create, import, and manage modules and packages is key for developing maintainable and scalable Python applications.\n",
    "\n",
    "## Importing Modules\n",
    "Python's modules are simply Python files with .py extensions containing Python code that can be reused in other Python scripts.\n",
    "\n",
    "\n"
   ]
  },
  {
   "cell_type": "code",
   "execution_count": null,
   "metadata": {
    "id": "LiBRGQrJlCy6"
   },
   "outputs": [],
   "source": [
    "# Importing a whole module\n",
    "import math\n",
    "print(math.sqrt(16))  # Outputs: 4.0\n",
    "\n",
    "# Importing specific functions\n",
    "from math import sqrt\n",
    "print(sqrt(16))  # Outputs: 4.0\n",
    "\n",
    "# Using alias for modules\n",
    "import numpy as np\n",
    "array = np.array([1, 2, 3])\n"
   ]
  },
  {
   "cell_type": "markdown",
   "metadata": {
    "id": "tOljjs5UlJDI"
   },
   "source": [
    "When you import a module, Python executes all of the code in the module file.\n",
    "\n",
    "## Creating Modules\n",
    "Any Python file can be a module. To create a module, simply save your Python code in a .py file. Other Python scripts can then import this file as a module."
   ]
  },
  {
   "cell_type": "code",
   "execution_count": null,
   "metadata": {
    "id": "oJXd4vuDlSOM"
   },
   "outputs": [],
   "source": [
    "# Example of a simple module, saved as calculator.py\n",
    "\n",
    "def add(a, b):\n",
    "    return a + b\n",
    "\n",
    "def subtract(a, b):\n",
    "    return a - b\n"
   ]
  },
  {
   "cell_type": "markdown",
   "metadata": {
    "id": "aNKMci_-lbWg"
   },
   "source": [
    "You can then use this module in other Python scripts:\n",
    "\n"
   ]
  },
  {
   "cell_type": "code",
   "execution_count": null,
   "metadata": {
    "id": "Kx3vb68Hla6J"
   },
   "outputs": [],
   "source": [
    "from calculator import add, subtract\n",
    "print(add(5, 3))  # Outputs: 8\n"
   ]
  },
  {
   "cell_type": "markdown",
   "metadata": {
    "id": "X-YzUpuomPMo"
   },
   "source": [
    "##Packages\n",
    "\n",
    "A package is a collection of Python modules under a common directory. For Python to recognize a directory as a package, it must contain a file named __init__.py. The file can be empty but it signifies that the directory contains Python modules."
   ]
  },
  {
   "cell_type": "code",
   "execution_count": null,
   "metadata": {
    "id": "54Hg8MsAmWqM"
   },
   "outputs": [],
   "source": [
    "# Assume the following directory structure:\n",
    "# mypackage/\n",
    "#   __init__.py\n",
    "#   subpackage1/\n",
    "#       __init__.py\n",
    "#       module1.py\n",
    "#   subpackage2/\n",
    "#       __init__.py\n",
    "#       module2.py\n",
    "\n",
    "# Importing from a package\n",
    "from mypackage.subpackage1 import module1\n",
    "module1.some_function()\n"
   ]
  },
  {
   "cell_type": "markdown",
   "metadata": {
    "id": "j98PSnDCmiAx"
   },
   "source": [
    "## Virtual Environments\n",
    "\n",
    "Using virtual environments in Python helps manage dependencies for different projects. By creating a virtual environment, you can keep dependencies required by different projects separate from each other.\n",
    "\n",
    "\n"
   ]
  },
  {
   "cell_type": "code",
   "execution_count": null,
   "metadata": {
    "id": "AanCmXLUmm6U"
   },
   "outputs": [],
   "source": [
    "# Creating a virtual environment\n",
    "python -m venv myprojectenv\n",
    "\n",
    "# Activating the virtual environment\n",
    "# On Windows\n",
    "myprojectenv\\Scripts\\activate\n",
    "\n",
    "# On MacOS/Linux\n",
    "source myprojectenv/bin/activate\n"
   ]
  },
  {
   "cell_type": "markdown",
   "metadata": {
    "id": "4LNCPhonmp4q"
   },
   "source": [
    "This setup ensures that any Python packages installed while the virtual environment is active will only affect this particular environment, helping avoid conflicts between project dependencies.\n",
    "\n",
    "This chapter provides the tools you need to effectively manage and modularize your Python code, essential for professional, clean, and efficient Python programming. Coming up next, we'll discuss best practices in logging and debugging to enhance the observability and maintainability of your Python applications."
   ]
  },
  {
   "cell_type": "markdown",
   "metadata": {
    "id": "d9SRUL8wmtAY"
   },
   "source": [
    "\n",
    "# Chapter 6: Logging and Debugging\n",
    "\n",
    "Effective logging and debugging are crucial for developing, maintaining, and troubleshooting Python applications. This chapter covers how to utilize Python's built-in logging module and debugging tools to keep your applications running smoothly and efficiently.\n",
    "\n",
    "## Logging\n",
    "Python's logging module provides a flexible framework for emitting log messages from Python programs. It is preferable to using print statements because it offers different severity levels and allows you to direct the logs to different outputs.\n",
    "\n"
   ]
  },
  {
   "cell_type": "code",
   "execution_count": null,
   "metadata": {
    "id": "3Kk9aMphmyhz"
   },
   "outputs": [],
   "source": [
    "import logging\n",
    "\n",
    "# Basic configuration to log to file\n",
    "logging.basicConfig(filename='app.log', level=logging.INFO, format='%(asctime)s - %(levelname)s - %(message)s')\n",
    "\n",
    "# Different levels of logs\n",
    "logging.debug('This is a debug message')\n",
    "logging.info('This is an info message')\n",
    "logging.warning('This is a warning message')\n",
    "logging.error('This is an error message')\n",
    "logging.critical('This is a critical message')\n"
   ]
  },
  {
   "cell_type": "markdown",
   "metadata": {
    "id": "4NdhrTCJm2q2"
   },
   "source": [
    "### Using Log Levels\n",
    "Log levels provide a way to categorize the importance of the messages logged by the application:\n",
    "\n",
    "- **DEBUG**: Detailed information, typically of interest only when diagnosing problems.\n",
    "- **INFO: Confirmation that things are working as expected.\n",
    "- **WARNING**: An indication that something unexpected happened, or indicative of some problem in the near future.\n",
    "- **ERROR**: Due to a more serious problem, the software has not been able to perform some function.\n",
    "- **CRITICAL**: A serious error, indicating that the program itself may be unable to continue running.\n",
    "\n",
    "Debugging Tools\n",
    "When it comes to debugging, Python provides several tools to help identify issues in the code. The most commonly used tool is the Python Debugger (pdb), which allows interactive debugging."
   ]
  },
  {
   "cell_type": "code",
   "execution_count": null,
   "metadata": {
    "id": "glEpF9whnRrE"
   },
   "outputs": [],
   "source": [
    "import pdb\n",
    "\n",
    "# Example usage\n",
    "def div(a, b):\n",
    "    pdb.set_trace()\n",
    "    return a / b\n",
    "\n",
    "print(div(4, 2))\n"
   ]
  },
  {
   "cell_type": "markdown",
   "metadata": {
    "id": "bPKmHqRinSG2"
   },
   "source": [
    "Using pdb, you can step through your code, inspect variables, and evaluate expressions to diagnose and fix issues more effectively.\n",
    "\n",
    "- **Commands:** list (shows current position in the code), next (executes the next line), continue (continues execution until the next breakpoint), break (adds breakpoints), print (prints a variable), and quit (exits the debugger).\n",
    "\n",
    "Tips for Effective Debugging\n",
    "\n",
    "- Start Small: Test small parts of your code as you write them.\n",
    "- Use Logs: Insert logging statements to report the occurrence of particular events.\n",
    "- Isolate Problems: When you encounter a bug, narrow down where it could be by using unit tests or dividing the code.\n",
    "\n",
    "This chapter equips you with essential tools for logging and debugging, helping ensure your Python applications perform as intended and making it easier to maintain and troubleshoot them. In the next chapter, we will explore the broader Python ecosystem, including toolchains and additional libraries that can help streamline your Python development process.\n",
    "\n",
    "\n",
    "\n",
    "\n",
    "\n",
    "\n"
   ]
  },
  {
   "cell_type": "markdown",
   "metadata": {
    "id": "H7pCLl5TnbJs"
   },
   "source": [
    "#Chapter 7: Toolchain and Additional Libraries\n",
    "\n",
    "In this final chapter, we'll explore the broader Python ecosystem, focusing on toolchains for code style enforcement, testing, and some additional libraries that extend Python's capabilities. These tools and libraries can significantly enhance productivity and ensure high-quality software development.\n",
    "\n",
    "## PEP 8 and Linters\n",
    "PEP 8 is the style guide for Python code. Adhering to PEP 8 helps ensure that your Python code is readable and consistent. Python's linters like flake8 or pylint help enforce coding standards and catch potential errors."
   ]
  },
  {
   "cell_type": "code",
   "execution_count": null,
   "metadata": {
    "id": "9aGH7edGnt1e"
   },
   "outputs": [],
   "source": [
    "# Installing flake8\n",
    "pip install flake8\n",
    "\n",
    "# Using flake8\n",
    "flake8 my_script.py\n"
   ]
  },
  {
   "cell_type": "markdown",
   "metadata": {
    "id": "NCuqPktcnuk1"
   },
   "source": [
    "These tools provide feedback on style issues, complexity, and programmatic errors, making them indispensable for maintaining code quality."
   ]
  },
  {
   "cell_type": "markdown",
   "metadata": {
    "id": "40bXnVS9n1QH"
   },
   "source": [
    "Testing\n",
    "Testing is critical in the development process to ensure your code behaves as expected.\n",
    "\n",
    "- unittest: Python’s built-in library that allows you to test small units of code independently."
   ]
  },
  {
   "cell_type": "code",
   "execution_count": null,
   "metadata": {
    "id": "x78xUsm0n4KK"
   },
   "outputs": [],
   "source": [
    "import unittest\n",
    "\n",
    "class TestMathOperations(unittest.TestCase):\n",
    "    def test_add(self):\n",
    "        self.assertEqual(1 + 1, 2)\n",
    "\n",
    "    def test_subtract(self):\n",
    "        self.assertEqual(2 - 1, 1)\n",
    "\n",
    "if __name__ == '__main__':\n",
    "    unittest.main()\n"
   ]
  },
  {
   "cell_type": "markdown",
   "metadata": {
    "id": "HtGxrdQFoBv_"
   },
   "source": [
    "- pytest: A more powerful, third-party testing framework with a simpler syntax and more features than unittest."
   ]
  },
  {
   "cell_type": "code",
   "execution_count": null,
   "metadata": {
    "id": "ezal3ykNoDS4"
   },
   "outputs": [],
   "source": [
    "# Installing pytest\n",
    "pip install pytest\n",
    "\n",
    "# Using pytest\n",
    "pytest\n"
   ]
  },
  {
   "cell_type": "markdown",
   "metadata": {
    "id": "hd6X30YJoMew"
   },
   "source": [
    "## Popular Python Libraries\n",
    "Several Python libraries can help simplify complex tasks across different domains:\n",
    "\n",
    "- **Requests**: Simplifies making HTTP requests for web clients.\n"
   ]
  },
  {
   "cell_type": "code",
   "execution_count": null,
   "metadata": {
    "id": "Dsu82bEloTsf"
   },
   "outputs": [],
   "source": [
    "import requests\n",
    "response = requests.get('https://api.example.com/data')\n"
   ]
  },
  {
   "cell_type": "markdown",
   "metadata": {
    "id": "aYqiJ3VcoX5E"
   },
   "source": [
    "- **Pandas:** Essential for data analysis and manipulation.\n"
   ]
  },
  {
   "cell_type": "code",
   "execution_count": null,
   "metadata": {
    "id": "wc3p-FIMoaJP"
   },
   "outputs": [],
   "source": [
    "import pandas as pd\n",
    "data = pd.read_csv('data.csv')\n"
   ]
  },
  {
   "cell_type": "markdown",
   "metadata": {
    "id": "yGACg8XdoZzK"
   },
   "source": [
    "- **NumPy:** Provides support for large, multi-dimensional arrays and matrices.\n"
   ]
  },
  {
   "cell_type": "code",
   "execution_count": null,
   "metadata": {
    "id": "a2eIQQ63os4L"
   },
   "outputs": [],
   "source": [
    "import numpy as np\n",
    "array = np.array([1, 2, 3])\n"
   ]
  },
  {
   "cell_type": "markdown",
   "metadata": {
    "id": "RiOIB14cojsg"
   },
   "source": [
    "- **Scikit-Learn:** Ideal for implementing machine learning algorithms.\n"
   ]
  },
  {
   "cell_type": "code",
   "execution_count": null,
   "metadata": {
    "id": "Dkr7jaSHos11"
   },
   "outputs": [],
   "source": [
    "from sklearn.ensemble import RandomForestClassifier\n",
    "model = RandomForestClassifier()\n",
    "model.fit(train_data, train_labels)\n"
   ]
  },
  {
   "cell_type": "markdown",
   "metadata": {
    "id": "3jNemuKTo2cM"
   },
   "source": [
    "- **Matplotlib**: A plotting library for creating static, interactive, and animated visualizations in Python"
   ]
  },
  {
   "cell_type": "code",
   "execution_count": null,
   "metadata": {
    "id": "ezSLCIJwosdG"
   },
   "outputs": [],
   "source": [
    "import matplotlib.pyplot as plt\n",
    "plt.plot([1, 2, 3], [4, 5, 6])\n",
    "plt.show()\n"
   ]
  },
  {
   "cell_type": "markdown",
   "metadata": {
    "id": "SzwiulQopFYK"
   },
   "source": [
    "# Extra Chapter: Python and Object-Oriented Programming\n",
    "\n",
    "## Introduction to Classes and Objects\n",
    "In Python, classes are created using the class keyword, and objects are instances of these classes. Here’s a simple example:\n",
    "\n"
   ]
  },
  {
   "cell_type": "code",
   "execution_count": null,
   "metadata": {
    "id": "8RXHAwVspIBw"
   },
   "outputs": [],
   "source": [
    "class Dog:\n",
    "    def __init__(self, name, age):\n",
    "        self.name = name\n",
    "        self.age = age\n",
    "\n",
    "    def speak(self, sound):\n",
    "        return f\"{self.name} says {sound}\"\n",
    "\n",
    "# Creating an instance of Dog\n",
    "my_dog = Dog(\"Rex\", 4)\n",
    "print(my_dog.speak(\"Woof\"))\n"
   ]
  },
  {
   "cell_type": "markdown",
   "metadata": {
    "id": "HhCRInJ5pTcL"
   },
   "source": [
    "### Attributes and Methods\n",
    "\n",
    "Attributes are variables associated with a class, and methods are functions defined within a class that operate on its attributes. The __init__ method is a special method called a constructor, used for initializing an instance of the class.\n",
    "\n",
    "### Inheritance\n",
    "Python supports inheritance, allowing multiple base classes and thus facilitating complex relationships between objects.\n",
    "\n"
   ]
  },
  {
   "cell_type": "code",
   "execution_count": null,
   "metadata": {
    "id": "4mjYXeEtpalm"
   },
   "outputs": [],
   "source": [
    "class Cat(Dog):  # Inherits from Dog\n",
    "    def purr(self):\n",
    "        return f\"{self.name} purrs.\"\n",
    "\n",
    "# Usage\n",
    "my_cat = Cat(\"Whiskers\", 3)\n",
    "print(my_cat.speak(\"Meow\"))  # Inherited method\n",
    "print(my_cat.purr())         # New method\n"
   ]
  },
  {
   "cell_type": "markdown",
   "metadata": {
    "id": "t57oMsRnphq-"
   },
   "source": [
    "### Encapsulation\n",
    "Encapsulation is the bundling of data with the methods that operate on these data. It restricts direct access to some of the object’s components, which can prevent the accidental modification of data:\n",
    "\n"
   ]
  },
  {
   "cell_type": "code",
   "execution_count": null,
   "metadata": {
    "id": "7dskkzhQplDZ"
   },
   "outputs": [],
   "source": [
    "class Person:\n",
    "    def __init__(self, name, age):\n",
    "        self.name = name\n",
    "        self._age = age  # Leading underscore suggests protected (by convention)\n",
    "\n",
    "    def get_age(self):\n",
    "        return self._age\n",
    "\n",
    "# Direct access to _age is discouraged\n",
    "john = Person(\"John\", 28)\n",
    "print(john.get_age())\n"
   ]
  },
  {
   "cell_type": "markdown",
   "metadata": {
    "id": "AR5QYVr_pmBu"
   },
   "source": [
    "### Polymorphism\n",
    "Polymorphism allows for the interchangeability of components through a common interface. In Python, it’s more loosely applied, allowing different classes to be used interchangeably if they implement the same methods.\n",
    "\n"
   ]
  },
  {
   "cell_type": "code",
   "execution_count": null,
   "metadata": {
    "id": "Mi6OTbMwpwP6"
   },
   "outputs": [],
   "source": [
    "def animal_sound(animal):\n",
    "    print(animal.speak(\"Hi there\"))\n",
    "\n",
    "animal_sound(my_dog)\n",
    "animal_sound(my_cat)\n"
   ]
  },
  {
   "cell_type": "markdown",
   "metadata": {
    "id": "pCF2AyPSpyth"
   },
   "source": [
    "These OOP principles are fundamental in many complex Python projects, especially in large-scale applications, where maintaining and scaling code is crucial. Incorporating these concepts into Python development practices enhances code efficiency, reusability, and readability.\n",
    "\n",
    "\n",
    "\n",
    "\n",
    "\n",
    "\n"
   ]
  }
 ],
 "metadata": {
  "colab": {
   "authorship_tag": "ABX9TyOzwNszwOLooljT/I2UI7JR",
   "provenance": []
  },
  "kernelspec": {
   "display_name": "Python 3 (ipykernel)",
   "language": "python",
   "name": "python3"
  },
  "language_info": {
   "codemirror_mode": {
    "name": "ipython",
    "version": 3
   },
   "file_extension": ".py",
   "mimetype": "text/x-python",
   "name": "python",
   "nbconvert_exporter": "python",
   "pygments_lexer": "ipython3",
   "version": "3.12.3"
  }
 },
 "nbformat": 4,
 "nbformat_minor": 4
}
